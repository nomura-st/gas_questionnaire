{
  "nbformat": 4,
  "nbformat_minor": 0,
  "metadata": {
    "colab": {
      "provenance": [],
      "authorship_tag": "ABX9TyPCUmgLD258qkZ+5D0XR8n4",
      "include_colab_link": true
    },
    "kernelspec": {
      "name": "python3",
      "display_name": "Python 3"
    },
    "language_info": {
      "name": "python"
    }
  },
  "cells": [
    {
      "cell_type": "markdown",
      "metadata": {
        "id": "view-in-github",
        "colab_type": "text"
      },
      "source": [
        "<a href=\"https://colab.research.google.com/github/nomura-st/gas_questionnaire/blob/main/%E6%98%A0%E7%94%BB%E6%83%85%E5%A0%B1%E6%A4%9C%E7%B4%A2.ipynb\" target=\"_parent\"><img src=\"https://colab.research.google.com/assets/colab-badge.svg\" alt=\"Open In Colab\"/></a>"
      ]
    },
    {
      "cell_type": "code",
      "execution_count": 71,
      "metadata": {
        "id": "2llm33Kluldm"
      },
      "outputs": [],
      "source": [
        "#############################\n",
        "### カスタム情報\n",
        "#############################\n",
        "# 読み書き対象スプレッドシートID\n",
        "ssID='xxxxxxxxx'\n",
        "# 読み書き対象スプレッドシート シート名\n",
        "sheetName='データ'\n",
        "# データ表が始まる行の上の文字\n",
        "dataStart='映画タイトル'\n",
        "\n",
        "# 検索対象サイト\n",
        "baseURL = 'https://eiga.com'"
      ]
    },
    {
      "cell_type": "code",
      "source": [
        "import requests\n",
        "import re\n",
        "\n",
        "from bs4 import BeautifulSoup  # BeautifulSoupクラスをインポート\n",
        "\n",
        "# スクレイピング関数\n",
        "def select(url, selector):\n",
        "  html = requests.get(url)\n",
        "  # 取得したHTMLをBeautifulSoupを使ってパースします。\n",
        "  soup = BeautifulSoup(html.content, \"html.parser\")\n",
        "  # パースしたHTMLから特定の要素を抽出します。結果はリストで返ってきます。\n",
        "  elem = soup.select(selector)\n",
        "  return elem"
      ],
      "metadata": {
        "id": "ZfnSMF-Zu-ul"
      },
      "execution_count": 72,
      "outputs": []
    },
    {
      "cell_type": "code",
      "source": [
        "import urllib.parse\n",
        "\n",
        "# 映画名で検索\n",
        "def searchMovie(movieName):\n",
        "  result = select(f'{baseURL}/search/{urllib.parse.quote(movieName)}/', \"#rslt-movie ul a\")\n",
        "  # ID（を含むリンク）を取得\n",
        "  movieIds = list(map(lambda html: [html.select(\"p[class='title']\")[0].get_text(), html.get('href')], result))\n",
        "  if len(movieIds) == 0:\n",
        "    raise Exception(f'[{movieName}]という映画が見つかりませんでした。タイトルを修正してください')\n",
        "\n",
        "  if len(movieIds) > 1:\n",
        "    print(f'★★★注意★★★　[{movieName}]という映画で複数ヒットしました。最初にヒットした情報を設定します（候補：{\", \".join(map(lambda l: l[0], movieIds))}）★★★')\n",
        "\n",
        "  movieHtml = select(f'{baseURL}{movieIds[0][1]}', \"main\")[0]\n",
        "  images = movieHtml.select(\".hero-img img\")\n",
        "  infos = movieHtml.select(\".movie-details .data\")\n",
        "  directors = movieHtml.select(\".movie-staff [itemprop='director']\")\n",
        "  casts = movieHtml.select(\".movie-cast .person [itemprop='name']\")\n",
        "\n",
        "  return {\n",
        "      'name':movieIds[0][0],\n",
        "      'image':images[0][\"src\"] if len(images) > 0 else \"\",\n",
        "      'info':infos[0].get_text() if len(infos) > 0 else \"\",\n",
        "      'director':directors[0].get_text() if len(directors) > 0 else \"\",\n",
        "      'casts':list(map(lambda html:html.get_text(), casts))[:2]\n",
        "  }\n"
      ],
      "metadata": {
        "id": "7sbqw637v8DL"
      },
      "execution_count": 73,
      "outputs": []
    },
    {
      "cell_type": "code",
      "source": [
        "# 認証のためのコード\n",
        "from google.colab import auth\n",
        "auth.authenticate_user()\n",
        "import gspread\n",
        "from google.auth import default\n",
        "creds, _ = default()\n",
        "gc = gspread.authorize(creds)"
      ],
      "metadata": {
        "id": "yBM1RDjJ-RTn"
      },
      "execution_count": 74,
      "outputs": []
    },
    {
      "cell_type": "code",
      "source": [
        "ss = gc.open_by_key(ssID)\n",
        "sheet = ss.worksheet(sheetName)\n",
        "\n",
        "# A列をループしてデータを特定\n",
        "row = 0\n",
        "dataFound = False\n",
        "for aValue in sheet.col_values(1):\n",
        "  row = row + 1\n",
        "  if not dataFound:\n",
        "    if aValue == dataStart:\n",
        "      # データ表が見つかった\n",
        "      dataFound = True\n",
        "    continue\n",
        "  \n",
        "  if aValue == \"\":\n",
        "    # データ表の開始から空欄が出た時点で終了\n",
        "    break\n",
        "\n",
        "  if sheet.cell(row, 2).value != \"\":\n",
        "    # 情報が設定済みの映画はスキップ\n",
        "    print(f'[情報] \"{aValue}\"はB列が空ではないのでスキップ')\n",
        "    continue\n",
        "\n",
        "  print(f'[情報] \"{aValue}\"で検索開始')\n",
        "  # 検索\n",
        "  movieInfo = searchMovie(aValue)\n",
        "\n",
        "  print(f'  →\"{movieInfo[\"name\"]}\"で更新開始')\n",
        "  info = \"\"\n",
        "  if movieInfo[\"director\"].strip() != \"\":\n",
        "    info = info + f'監督[{movieInfo[\"director\"]}]  '\n",
        "  if len(movieInfo[\"casts\"]) > 0:\n",
        "    info = info + f'演者[{\",\".join(movieInfo[\"casts\"])}]  '\n",
        "  if movieInfo[\"info\"].strip() != \"\":\n",
        "    info = info + f'{movieInfo[\"info\"]}  '\n",
        "\n",
        "  # 書き込み\n",
        "  sheet.update_cell(row, 2, info)\n",
        "  sheet.update_cell(row, 3, movieInfo[\"image\"])\n"
      ],
      "metadata": {
        "id": "WlYt9wHz-U-H"
      },
      "execution_count": null,
      "outputs": []
    },
    {
      "cell_type": "markdown",
      "source": [],
      "metadata": {
        "id": "CHXMFWAp6sgJ"
      }
    }
  ]
}