{
  "nbformat": 4,
  "nbformat_minor": 0,
  "metadata": {
    "colab": {
      "provenance": [],
      "authorship_tag": "ABX9TyPrE2wI79JmX5+AE44WyZwh",
      "include_colab_link": true
    },
    "kernelspec": {
      "name": "python3",
      "display_name": "Python 3"
    },
    "language_info": {
      "name": "python"
    }
  },
  "cells": [
    {
      "cell_type": "markdown",
      "metadata": {
        "id": "view-in-github",
        "colab_type": "text"
      },
      "source": [
        "<a href=\"https://colab.research.google.com/github/nomura-st/gas_questionnaire/blob/main/%E5%85%AC%E9%96%8B%E6%98%A0%E7%94%BB%E3%82%B9%E3%82%B1%E3%82%B8%E3%83%A5%E3%83%BC%E3%83%AB.ipynb\" target=\"_parent\"><img src=\"https://colab.research.google.com/assets/colab-badge.svg\" alt=\"Open In Colab\"/></a>"
      ]
    },
    {
      "cell_type": "code",
      "source": [
        "import requests\n",
        "import re\n",
        "\n",
        "from bs4 import BeautifulSoup  # BeautifulSoupクラスをインポート\n",
        "\n",
        "def selectRecurse(baseurl, url, selector):\n",
        "  html = requests.get(url)\n",
        "  # 取得したHTMLをBeautifulSoupを使ってパースします。\n",
        "  soup = BeautifulSoup(html.content, \"html.parser\")\n",
        "  # パースしたHTMLから特定の要素を抽出します。結果はリストで返ってきます。\n",
        "  elem = soup.select(selector)\n",
        "\n",
        "  # iframeの中を検索\n",
        "  for iframe in soup.select(\"iframe\"):\n",
        "    urlInFrame = iframe.attrs['src']\n",
        "    if not re.search(\"^//\", urlInFrame) and re.search(\"^/\", urlInFrame):\n",
        "      elementsInFrame = selectRecurse (baseurl, baseurl + urlInFrame, selector)\n",
        "      elem = elem + elementsInFrame\n",
        "\n",
        "  return elem\n",
        "\n",
        "def select(url, selector):\n",
        "  html = requests.get(url)\n",
        "  # 取得したHTMLをBeautifulSoupを使ってパースします。\n",
        "  soup = BeautifulSoup(html.content, \"html.parser\")\n",
        "  # パースしたHTMLから特定の要素を抽出します。結果はリストで返ってきます。\n",
        "  elem = soup.select(selector)\n",
        "\n",
        "  return elem"
      ],
      "metadata": {
        "id": "qN-HFCiOZRFK"
      },
      "execution_count": 1,
      "outputs": []
    },
    {
      "cell_type": "code",
      "execution_count": 7,
      "metadata": {
        "id": "A5nrrXSyp6JG",
        "colab": {
          "base_uri": "https://localhost:8080/"
        },
        "outputId": "f80398bd-71e1-46d0-ae16-752504e29c18"
      },
      "outputs": [
        {
          "output_type": "stream",
          "name": "stdout",
          "text": [
            "{'name': 'アバター\\u3000ウェイ・オブ・ウォーター', 'types': [{'type': '字幕', 'date': ['1672661100', '1672702200', '1672747500', '1672788600', '1672833900']}, {'type': '吹替', 'date': ['1672733700', '1672820100']}, {'type': '3D/字幕', 'date': ['1672724700', '1672811100']}, {'type': '4D/3D/吹替', 'date': ['1672659300', '1672705800', '1672720200', '1672745700', '1672792200', '1672806600', '1672832100']}]}\n",
            "{'name': 'THE FIRST SLAM DUNK', 'types': [{'type': '', 'date': ['1672655700', '1672661100', '1672665300', '1672704000', '1672713900', '1672723800', '1672737300', '1672742100', '1672747500', '1672751700', '1672790400', '1672800300', '1672810200', '1672823700', '1672828500', '1672833900', '1672838100']}]}\n",
            "{'name': 'Dr.コトー診療所', 'types': [{'type': '', 'date': ['1672662000', '1672704900', '1672716300', '1672726800', '1672748400', '1672791300', '1672802700', '1672813200', '1672834800']}]}\n",
            "{'name': 'すずめの戸締まり', 'types': [{'type': '', 'date': ['1672662900', '1672702200', '1672712400', '1672722900', '1672732800', '1672749300', '1672788600', '1672798800', '1672809300', '1672819200', '1672835700']}]}\n",
            "{'name': 'ブラックナイトパレード', 'types': [{'type': '', 'date': ['1672664700', '1672713900', '1672722900', '1672740000', '1672751100', '1672800300', '1672809300', '1672826400', '1672837500']}]}\n",
            "{'name': 'ラーゲリより愛を込めて', 'types': [{'type': '', 'date': ['1672709400', '1672720200', '1672730700', '1672795800', '1672806600', '1672817100']}]}\n",
            "{'name': 'かがみの孤城', 'types': [{'type': '', 'date': ['1672663800', '1672703100', '1672721400', '1672740000', '1672750200', '1672789500', '1672807800', '1672826400', '1672836600']}]}\n",
            "{'name': '月の満ち欠け', 'types': [{'type': '', 'date': ['1672654800', '1672741200', '1672827600']}]}\n",
            "{'name': 'ONE PIECE FILM RED', 'types': [{'type': '', 'date': ['1672705800', '1672715400', '1672792200', '1672801800']}]}\n",
            "{'name': '劇場版\\u3000転生したらスライムだった件\\u3000紅蓮の絆編', 'types': [{'type': '', 'date': ['1672730700', '1672817100']}]}\n",
            "{'name': 'かぐや様は告らせたい\\u3000ファーストキッスは終わらない', 'types': [{'type': '', 'date': ['1672656600', '1672716300', '1672733700', '1672743000', '1672802700', '1672820100', '1672829400']}]}\n",
            "{'name': 'ブラックアダム', 'types': [{'type': '吹替', 'date': ['1672664700', '1672751100', '1672837500']}]}\n",
            "{'name': '仮面ライダーギーツ×リバイス MOVIE バトルロワイヤル', 'types': [{'type': '', 'date': ['1672704900', '1672712400', '1672724700', '1672731900', '1672791300', '1672798800', '1672811100', '1672818300']}]}\n",
            "{'name': 'トップガン\\u3000マーヴェリック', 'types': [{'type': '4D/字幕', 'date': ['1672734900', '1672821300']}]}\n",
            "{'name': '映画かいけつゾロリ\\u3000ラララ♪スターたんじょう', 'types': [{'type': '', 'date': ['1672703100', '1672789500']}]}\n",
            "{'name': '劇場版\\u3000ソードアート・オンライン\\u3000プログレッシブ\\u3000冥（くら）き夕闇のスケルツォ', 'types': [{'type': '', 'date': ['1672738800', '1672825200']}]}\n"
          ]
        }
      ],
      "source": [
        "# ターゲットWebページのURLを指定します。\n",
        "baseurl = \"https://eiga.com/theater/10\"\n",
        "path = \"/100101/3229/\"\n",
        "\n",
        "# パースしたHTMLから特定の要素を抽出します。結果はリストで返ってきます。\n",
        "elem = select(baseurl + path, \"main .content-container section[data-title]\")\n",
        "obj = map(lambda e: {\n",
        "    \"name\": e[\"data-title\"],\n",
        "    \"types\": list(map(lambda t: {\n",
        "        \"type\": t.select(\".movie-type\")[0].get_text(\"/\") if len(t.select(\".movie-type\")) > 0 else \"\",\n",
        "        \"date\": list(map(lambda d: d[\"data-time\"], t.select(\"td [data-time]\"))),\n",
        "    }, e.select(\".movie-schedule\"))),\n",
        "  }, elem)\n",
        "  \n",
        "# 抽出した要素ひとつひとつから情報を取得します。\n",
        "for o in obj:\n",
        "  print (o)"
      ]
    }
  ]
}