{
  "nbformat": 4,
  "nbformat_minor": 0,
  "metadata": {
    "colab": {
      "provenance": [],
      "authorship_tag": "ABX9TyPC+EXkIRFItsR78Ua2NS87",
      "include_colab_link": true
    },
    "kernelspec": {
      "name": "python3",
      "display_name": "Python 3"
    },
    "language_info": {
      "name": "python"
    }
  },
  "cells": [
    {
      "cell_type": "markdown",
      "metadata": {
        "id": "view-in-github",
        "colab_type": "text"
      },
      "source": [
        "<a href=\"https://colab.research.google.com/github/nomura-st/gas_questionnaire/blob/main/%E5%85%AC%E9%96%8B%E6%98%A0%E7%94%BB%E3%82%B9%E3%82%B1%E3%82%B8%E3%83%A5%E3%83%BC%E3%83%AB.ipynb\" target=\"_parent\"><img src=\"https://colab.research.google.com/assets/colab-badge.svg\" alt=\"Open In Colab\"/></a>"
      ]
    },
    {
      "cell_type": "code",
      "source": [
        "#############################\n",
        "### カスタム情報\n",
        "#############################\n",
        "# 読み書き対象スプレッドシートID\n",
        "ssID='xxxxxxs'\n",
        "# 読み書き対象スプレッドシート シート名\n",
        "sheetName='上映中'\n",
        "# データ表が始まる行\n",
        "rowStart=2\n",
        "\n",
        "# 検索対象サイト\n",
        "baseURL = 'https://eiga.com'\n",
        "# 対象の県\n",
        "prefURL = f'{baseURL}/theater/10'\n",
        "paths = {\n",
        "    \"ユナイテッド・シネマ 前橋\": \"/100101/3229/\",\n",
        "    \"109シネマズ高崎\": \"/100201/3230/\",\n",
        "    \"イオンシネマ高崎\": \"/100201/3231/\",\n",
        "}\n"
      ],
      "metadata": {
        "id": "Oip1n97WUP_0"
      },
      "execution_count": 25,
      "outputs": []
    },
    {
      "cell_type": "code",
      "source": [
        "import requests\n",
        "import re\n",
        "\n",
        "from bs4 import BeautifulSoup  # BeautifulSoupクラスをインポート\n",
        "\n",
        "def select(url, selector):\n",
        "  html = requests.get(url)\n",
        "  # 取得したHTMLをBeautifulSoupを使ってパースします。\n",
        "  soup = BeautifulSoup(html.content, \"html.parser\")\n",
        "  # パースしたHTMLから特定の要素を抽出します。結果はリストで返ってきます。\n",
        "  elem = soup.select(selector)\n",
        "\n",
        "  return elem"
      ],
      "metadata": {
        "id": "qN-HFCiOZRFK"
      },
      "execution_count": 26,
      "outputs": []
    },
    {
      "cell_type": "code",
      "source": [
        "def getMoviesFromEiga(url, path):\n",
        "  # パースしたHTMLから特定の要素を抽出します。結果はリストで返ってきます。\n",
        "  movies = select(url + path, \"main .content-container section[data-title]\")\n",
        "  obj = list(map(lambda movie: {\n",
        "      \"name\": movie[\"data-title\"],\n",
        "      \"schedules\": list(map(lambda t: {\n",
        "          \"type\": t.select(\".movie-type\")[0].get_text(\"/\") if len(t.select(\".movie-type\")) > 0 else \"\",\n",
        "          \"date\": list(map(lambda d: d[\"data-time\"], t.select(\"td [data-time]\"))),\n",
        "      }, movie.select(\".movie-schedule\"))),\n",
        "      \"image\": movie.select(\".movie-image img\")[0][\"src\"] if len(movie.select(\".movie-image img\")) > 0 else None,\n",
        "      \"time\": list(filter(lambda s: s.get_text().endswith(\"分\"), movie.select(\".movie-image .data span\")))[0].get_text().replace(\"分\", \"\"),\n",
        "      \"link\": baseURL + movie.select(\"h2 a\")[0][\"href\"],\n",
        "    }, movies))\n",
        "  \n",
        "  return obj\n"
      ],
      "metadata": {
        "id": "bDGgyls1rZid"
      },
      "execution_count": 27,
      "outputs": []
    },
    {
      "cell_type": "code",
      "execution_count": 28,
      "metadata": {
        "id": "A5nrrXSyp6JG"
      },
      "outputs": [],
      "source": [
        "#import json\n",
        "\n",
        "theaters = list(map(lambda name: {\n",
        "    \"name\": name,\n",
        "    \"movies\": getMoviesFromEiga(prefURL, paths[name]),\n",
        "}, paths.keys()))\n",
        "\n",
        "# print (json.dumps(theaters, ensure_ascii=False))"
      ]
    },
    {
      "cell_type": "code",
      "source": [
        "# 認証のためのコード\n",
        "from google.colab import auth\n",
        "auth.authenticate_user()\n",
        "import gspread\n",
        "from google.auth import default\n",
        "creds, _ = default()\n",
        "gc = gspread.authorize(creds)"
      ],
      "metadata": {
        "id": "NxJZ7zXMUmTq"
      },
      "execution_count": 29,
      "outputs": []
    },
    {
      "cell_type": "code",
      "source": [
        "import datetime\n",
        "\n",
        "ss = gc.open_by_key(ssID)\n",
        "sheet = ss.worksheet(sheetName)\n",
        "\n",
        "# 既存を削除\n",
        "ss.values_clear(f'\\'{sheetName}\\'!B2:J501')\n",
        "\n",
        "row = rowStart\n",
        "# 日時１つを１行として書き込み\n",
        "for theater in theaters:\n",
        "  for movie in theater[\"movies\"]:\n",
        "    for schedule in movie[\"schedules\"]:\n",
        "      for d in schedule[\"date\"]:\n",
        "        dt = datetime.datetime.fromtimestamp(int(d), datetime.timezone.utc)\n",
        "        # 日本のタイムゾーン調整\n",
        "        dt = dt  + datetime.timedelta(hours = 9)\n",
        "        # 終了時刻は目安 ＋１０分\n",
        "        dtEnd = dt + datetime.timedelta(minutes = int(movie[\"time\"]) + 10)\n",
        "        dateStr = dt.strftime('%Y/%m/%d')\n",
        "        timeStartStr = dt.strftime('%H:%M:%S')\n",
        "        timeStartStrAbout = dt.strftime('%H時台(%p)')\n",
        "        timeEndStr = dtEnd.strftime('%H:%M:%S')\n",
        "\n",
        "        # 書き込みデータ\n",
        "        ds= sheet.range(f'B{row}:J{row}')\n",
        "        ds[0].value = movie[\"name\"]\n",
        "        ds[1].value = schedule[\"type\"]\n",
        "        ds[2].value = dateStr\n",
        "        ds[3].value = timeStartStrAbout\n",
        "        ds[4].value = timeStartStr\n",
        "        ds[5].value = timeEndStr\n",
        "        ds[6].value = movie[\"time\"]\n",
        "        ds[7].value = theater[\"name\"]\n",
        "        ds[8].value = movie[\"link\"]\n",
        "        # 書き込み\n",
        "        sheet.update_cells(ds)\n",
        "\n",
        "        row = row + 1\n"
      ],
      "metadata": {
        "id": "GDn6Jr9GU46I"
      },
      "execution_count": 33,
      "outputs": []
    }
  ]
}