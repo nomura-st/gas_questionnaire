{
  "nbformat": 4,
  "nbformat_minor": 0,
  "metadata": {
    "colab": {
      "provenance": [],
      "authorship_tag": "ABX9TyNI0w+aw+d0QD34vxgAlFED",
      "include_colab_link": true
    },
    "kernelspec": {
      "name": "python3",
      "display_name": "Python 3"
    },
    "language_info": {
      "name": "python"
    }
  },
  "cells": [
    {
      "cell_type": "markdown",
      "metadata": {
        "id": "view-in-github",
        "colab_type": "text"
      },
      "source": [
        "<a href=\"https://colab.research.google.com/github/nomura-st/gas_questionnaire/blob/main/%E5%85%AC%E9%96%8B%E6%98%A0%E7%94%BB%E3%82%B9%E3%82%B1%E3%82%B8%E3%83%A5%E3%83%BC%E3%83%AB.ipynb\" target=\"_parent\"><img src=\"https://colab.research.google.com/assets/colab-badge.svg\" alt=\"Open In Colab\"/></a>"
      ]
    },
    {
      "cell_type": "code",
      "source": [
        "#############################\n",
        "### カスタム情報\n",
        "#############################\n",
        "# 読み書き対象スプレッドシートID\n",
        "ssID='11HxD-a2Sq8DXPEEiVfZmNtEqkdOxJKZckPRkkT0GOJY'\n",
        "# 読み書き対象スプレッドシート シート名\n",
        "sheetName='上映中'\n",
        "# データ表が始まる行\n",
        "rowStart=2\n",
        "\n",
        "# 検索対象サイト\n",
        "baseURL = 'https://eiga.com'\n",
        "# 対象の県\n",
        "prefURL = f'{baseURL}/theater/10'\n",
        "paths = {\n",
        "    \"ユナイテッド・シネマ 前橋\": \"/100101/3229/\",\n",
        "    \"109シネマズ高崎\": \"/100201/3230/\",\n",
        "    \"イオンシネマ高崎\": \"/100201/3231/\",\n",
        "}\n"
      ],
      "metadata": {
        "id": "Oip1n97WUP_0"
      },
      "execution_count": 13,
      "outputs": []
    },
    {
      "cell_type": "code",
      "source": [
        "import requests\n",
        "import re\n",
        "\n",
        "from bs4 import BeautifulSoup  # BeautifulSoupクラスをインポート\n",
        "\n",
        "def select(url, selector):\n",
        "  html = requests.get(url)\n",
        "  # 取得したHTMLをBeautifulSoupを使ってパースします。\n",
        "  soup = BeautifulSoup(html.content, \"html.parser\")\n",
        "  # パースしたHTMLから特定の要素を抽出します。結果はリストで返ってきます。\n",
        "  elem = soup.select(selector)\n",
        "\n",
        "  return elem"
      ],
      "metadata": {
        "id": "qN-HFCiOZRFK"
      },
      "execution_count": 14,
      "outputs": []
    },
    {
      "cell_type": "code",
      "source": [
        "import re\n",
        "\n",
        "def getMoviesFromEiga(url, path):\n",
        "  # パースしたHTMLから特定の要素を抽出します。結果はリストで返ってきます。\n",
        "  movies = select(url + path, \"main .content-container section[data-title]\")\n",
        "  obj = []\n",
        "  print(\"*********************************************\")\n",
        "  print(f'GET INFO from {path}')\n",
        "\n",
        "  for movie in filter(lambda m: len(m.select(\"h2 a\")) > 0,movies):\n",
        "    print(f'TRY {movie[\"data-title\"]}')\n",
        "    m = {\n",
        "      \"name\": movie[\"data-title\"],\n",
        "      \"schedules\": list(map(lambda t: {\n",
        "          \"type\": t.select(\".movie-type\")[0].get_text(\"/\") if len(t.select(\".movie-type\")) > 0 else \"\",\n",
        "          \"date\": list(map(lambda d: d[\"data-time\"], t.select(\"td [data-time]\"))),\n",
        "      }, movie.select(\".movie-schedule\"))),\n",
        "      \"time\": \"0\",\n",
        "    }\n",
        "\n",
        "    if len(movie.select(\".movie-image img\")) > 0:\n",
        "      m[\"image\"] = movie.select(\".movie-image img\")[0][\"src\"]\n",
        "\n",
        "    for i in movie.select(\".movie-image .data span\"):\n",
        "      timeResult = re.match(\"(\\d+)[分]*\", i.get_text().strip())\n",
        "      if  timeResult:\n",
        "        m[\"time\"] = timeResult.group(1)\n",
        "      \n",
        "    if len(movie.select(\"h2 a\")) > 0:\n",
        "      m[\"link\"] = baseURL + movie.select(\"h2 a\")[0][\"href\"]\n",
        "\n",
        "    obj.append(m)\n",
        "  \n",
        "  return obj\n"
      ],
      "metadata": {
        "id": "bDGgyls1rZid"
      },
      "execution_count": 15,
      "outputs": []
    },
    {
      "cell_type": "code",
      "execution_count": 16,
      "metadata": {
        "id": "A5nrrXSyp6JG",
        "colab": {
          "base_uri": "https://localhost:8080/"
        },
        "outputId": "27a1ce4b-8194-4c59-c0d2-be8d0843d7b7"
      },
      "outputs": [
        {
          "output_type": "stream",
          "name": "stdout",
          "text": [
            "*********************************************\n",
            "GET INFO from /100101/3229/\n",
            "TRY 映画　イチケイのカラス\n",
            "TRY そして僕は途方に暮れる\n",
            "TRY JSB3 LIVE FILM RISING SOUND\n",
            "TRY THE FIRST SLAM DUNK\n",
            "TRY アバター　ウェイ・オブ・ウォーター\n",
            "TRY Dr.コトー診療所\n",
            "TRY すずめの戸締まり\n",
            "TRY ラーゲリより愛を込めて\n",
            "TRY 非常宣言\n",
            "TRY かがみの孤城\n",
            "TRY 名探偵コナン　灰原哀物語　黒鉄のミステリートレイン\n",
            "TRY ブラックナイトパレード\n",
            "TRY 嘘八百　なにわ夢の陣\n",
            "TRY ONE PIECE FILM RED\n",
            "TRY トップガン　マーヴェリック\n",
            "TRY 仮面ライダーギーツ×リバイス MOVIE バトルロワイヤル\n",
            "TRY かぐや様は告らせたい　ファーストキッスは終わらない\n",
            "*********************************************\n",
            "GET INFO from /100201/3230/\n",
            "TRY 映画　イチケイのカラス\n",
            "TRY そして僕は途方に暮れる\n",
            "TRY THE FIRST SLAM DUNK\n",
            "TRY アバター　ウェイ・オブ・ウォーター\n",
            "TRY Dr.コトー診療所\n",
            "TRY すずめの戸締まり\n",
            "TRY ラーゲリより愛を込めて\n",
            "TRY 非常宣言\n",
            "TRY 月の満ち欠け\n",
            "TRY ブラックナイトパレード\n",
            "TRY ONE PIECE FILM RED\n",
            "TRY RRR\n",
            "TRY 劇場版　転生したらスライムだった件　紅蓮の絆編\n",
            "TRY 中島みゆき　劇場版　ライヴ・ヒストリー2\n",
            "TRY 仮面ライダーギーツ×リバイス MOVIE バトルロワイヤル\n",
            "*********************************************\n",
            "GET INFO from /100201/3231/\n",
            "TRY 映画　イチケイのカラス\n",
            "TRY そして僕は途方に暮れる\n",
            "TRY JSB3 LIVE FILM RISING SOUND\n",
            "TRY ひみつのなっちゃん。\n",
            "TRY ゲキ×シネ「神州無頼街」\n",
            "TRY 妖怪ウォッチ♪　ジバニャンvsコマさん　もんげー大決戦だニャン\n",
            "TRY THE FIRST SLAM DUNK\n",
            "TRY アバター　ウェイ・オブ・ウォーター\n",
            "TRY Dr.コトー診療所\n",
            "TRY すずめの戸締まり\n",
            "TRY ラーゲリより愛を込めて\n",
            "TRY 非常宣言\n",
            "TRY かがみの孤城\n",
            "TRY 月の満ち欠け\n",
            "TRY 名探偵コナン　灰原哀物語　黒鉄のミステリートレイン\n",
            "TRY ブラックナイトパレード\n",
            "TRY ファミリア\n",
            "TRY ONE PIECE FILM RED\n",
            "TRY ホイットニー・ヒューストン I WANNA DANCE WITH SOMEBODY\n",
            "TRY 劇場版　転生したらスライムだった件　紅蓮の絆編\n",
            "TRY 仮面ライダーギーツ×リバイス MOVIE バトルロワイヤル\n",
            "TRY Dream Collaboration Festival ドリコラFes. アイカツ！シリーズ＆プリティーシリーズ\n",
            "TRY 劇場版　うたの☆プリンスさまっ♪　マジLOVEスターリッシュツアーズ\n"
          ]
        }
      ],
      "source": [
        "#import json\n",
        "\n",
        "theaters = list(map(lambda name: {\n",
        "    \"name\": name,\n",
        "    \"movies\": getMoviesFromEiga(prefURL, paths[name]),\n",
        "}, paths.keys()))\n",
        "\n",
        "# print (json.dumps(theaters, ensure_ascii=False))"
      ]
    },
    {
      "cell_type": "code",
      "source": [
        "# 認証のためのコード\n",
        "from google.colab import auth\n",
        "auth.authenticate_user()\n",
        "import gspread\n",
        "from google.auth import default\n",
        "creds, _ = default()\n",
        "gc = gspread.authorize(creds)"
      ],
      "metadata": {
        "id": "NxJZ7zXMUmTq"
      },
      "execution_count": 17,
      "outputs": []
    },
    {
      "cell_type": "code",
      "source": [
        "import datetime\n",
        "\n",
        "ss = gc.open_by_key(ssID)\n",
        "sheet = ss.worksheet(sheetName)\n",
        "\n",
        "# 既存を削除\n",
        "ss.values_clear(f'\\'{sheetName}\\'!B2:J501')\n",
        "\n",
        "row = rowStart\n",
        "# 日時１つを１行として書き込み\n",
        "for theater in theaters:\n",
        "  print(\"*********************************************\")\n",
        "  print(f'THEATER: {theater[\"name\"]}')\n",
        "\n",
        "  for movie in theater[\"movies\"]:\n",
        "    print(f'MOVIE: {movie[\"name\"]}')\n",
        "\n",
        "    for schedule in movie[\"schedules\"]:\n",
        "      for d in schedule[\"date\"]:\n",
        "        dt = datetime.datetime.fromtimestamp(int(d), datetime.timezone.utc)\n",
        "        # 日本のタイムゾーン調整\n",
        "        dt = dt  + datetime.timedelta(hours = 9)\n",
        "        # 終了時刻は目安 ＋１０分\n",
        "        dtEnd = dt + datetime.timedelta(minutes = int(movie[\"time\"]) + 10)\n",
        "        dateStr = dt.strftime('%Y/%m/%d')\n",
        "        timeStartStr = dt.strftime('%H:%M:%S')\n",
        "        timeStartStrAbout = dt.strftime('%H時台(%p)')\n",
        "        timeEndStr = dtEnd.strftime('%H:%M:%S')\n",
        "\n",
        "        # 書き込みデータ\n",
        "        ds= sheet.range(f'B{row}:J{row}')\n",
        "        ds[0].value = movie[\"name\"]\n",
        "        ds[1].value = schedule[\"type\"]\n",
        "        ds[2].value = dateStr\n",
        "        ds[3].value = timeStartStrAbout\n",
        "        ds[4].value = timeStartStr\n",
        "        ds[5].value = timeEndStr\n",
        "        ds[6].value = movie[\"time\"]\n",
        "        ds[7].value = theater[\"name\"]\n",
        "        ds[8].value = movie[\"link\"]\n",
        "        # 書き込み\n",
        "        sheet.update_cells(ds)\n",
        "\n",
        "        row = row + 1\n"
      ],
      "metadata": {
        "id": "GDn6Jr9GU46I",
        "colab": {
          "base_uri": "https://localhost:8080/"
        },
        "outputId": "208a08f4-e532-4d79-e61e-f088b69749f0"
      },
      "execution_count": 18,
      "outputs": [
        {
          "output_type": "stream",
          "name": "stdout",
          "text": [
            "*********************************************\n",
            "THEATER: ユナイテッド・シネマ 前橋\n",
            "MOVIE: 映画　イチケイのカラス\n",
            "MOVIE: そして僕は途方に暮れる\n",
            "MOVIE: JSB3 LIVE FILM RISING SOUND\n",
            "MOVIE: THE FIRST SLAM DUNK\n",
            "MOVIE: アバター　ウェイ・オブ・ウォーター\n",
            "MOVIE: Dr.コトー診療所\n",
            "MOVIE: すずめの戸締まり\n",
            "MOVIE: ラーゲリより愛を込めて\n",
            "MOVIE: 非常宣言\n",
            "MOVIE: かがみの孤城\n",
            "MOVIE: 名探偵コナン　灰原哀物語　黒鉄のミステリートレイン\n",
            "MOVIE: ブラックナイトパレード\n",
            "MOVIE: 嘘八百　なにわ夢の陣\n",
            "MOVIE: ONE PIECE FILM RED\n",
            "MOVIE: トップガン　マーヴェリック\n",
            "MOVIE: 仮面ライダーギーツ×リバイス MOVIE バトルロワイヤル\n",
            "MOVIE: かぐや様は告らせたい　ファーストキッスは終わらない\n",
            "*********************************************\n",
            "THEATER: 109シネマズ高崎\n",
            "MOVIE: 映画　イチケイのカラス\n",
            "MOVIE: そして僕は途方に暮れる\n",
            "MOVIE: THE FIRST SLAM DUNK\n",
            "MOVIE: アバター　ウェイ・オブ・ウォーター\n",
            "MOVIE: Dr.コトー診療所\n",
            "MOVIE: すずめの戸締まり\n",
            "MOVIE: ラーゲリより愛を込めて\n",
            "MOVIE: 非常宣言\n",
            "MOVIE: 月の満ち欠け\n",
            "MOVIE: ブラックナイトパレード\n",
            "MOVIE: ONE PIECE FILM RED\n",
            "MOVIE: RRR\n",
            "MOVIE: 劇場版　転生したらスライムだった件　紅蓮の絆編\n",
            "MOVIE: 中島みゆき　劇場版　ライヴ・ヒストリー2\n",
            "MOVIE: 仮面ライダーギーツ×リバイス MOVIE バトルロワイヤル\n",
            "*********************************************\n",
            "THEATER: イオンシネマ高崎\n",
            "MOVIE: 映画　イチケイのカラス\n",
            "MOVIE: そして僕は途方に暮れる\n",
            "MOVIE: JSB3 LIVE FILM RISING SOUND\n",
            "MOVIE: ひみつのなっちゃん。\n",
            "MOVIE: ゲキ×シネ「神州無頼街」\n",
            "MOVIE: 妖怪ウォッチ♪　ジバニャンvsコマさん　もんげー大決戦だニャン\n",
            "MOVIE: THE FIRST SLAM DUNK\n",
            "MOVIE: アバター　ウェイ・オブ・ウォーター\n",
            "MOVIE: Dr.コトー診療所\n",
            "MOVIE: すずめの戸締まり\n",
            "MOVIE: ラーゲリより愛を込めて\n",
            "MOVIE: 非常宣言\n",
            "MOVIE: かがみの孤城\n",
            "MOVIE: 月の満ち欠け\n",
            "MOVIE: 名探偵コナン　灰原哀物語　黒鉄のミステリートレイン\n",
            "MOVIE: ブラックナイトパレード\n",
            "MOVIE: ファミリア\n",
            "MOVIE: ONE PIECE FILM RED\n",
            "MOVIE: ホイットニー・ヒューストン I WANNA DANCE WITH SOMEBODY\n",
            "MOVIE: 劇場版　転生したらスライムだった件　紅蓮の絆編\n",
            "MOVIE: 仮面ライダーギーツ×リバイス MOVIE バトルロワイヤル\n",
            "MOVIE: Dream Collaboration Festival ドリコラFes. アイカツ！シリーズ＆プリティーシリーズ\n",
            "MOVIE: 劇場版　うたの☆プリンスさまっ♪　マジLOVEスターリッシュツアーズ\n"
          ]
        }
      ]
    }
  ]
}